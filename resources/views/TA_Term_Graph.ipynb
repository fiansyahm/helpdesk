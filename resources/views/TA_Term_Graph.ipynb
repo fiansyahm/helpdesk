{
  "nbformat": 4,
  "nbformat_minor": 0,
  "metadata": {
    "colab": {
      "provenance": []
    },
    "kernelspec": {
      "name": "python3",
      "display_name": "Python 3"
    },
    "language_info": {
      "name": "python"
    }
  },
  "cells": [
    {
      "cell_type": "markdown",
      "source": [
        "TA TERM GRAPH"
      ],
      "metadata": {
        "id": "Huz_CvBSczDX"
      }
    },
    {
      "cell_type": "markdown",
      "source": [
        "Proses Pembuatan Tabel 1 yang berisi metadata"
      ],
      "metadata": {
        "id": "VVMHcY0jVTd8"
      }
    },
    {
      "cell_type": "code",
      "source": [
        "from tabulate import tabulate\n",
        "title=[ 'Article-ID', 'Terms in Title and Keywords', 'Terms Found in Abstracts','Publication Year','Authors','References']\n",
        "table = [  \n",
        "           [ \"a1\", ['a','b','c'],   ['a','b','c','k','l']    ,'1993',['p1','p2']                                              ]\n",
        "         , [ \"a2\", ['c','d','e'],   ['a','c','d','e','m','n'],'1993',['p1','p3']                                              ]\n",
        "         , [ \"a3\", ['f','g','h'],   ['c','d','f','g','h','o'],'1993',['p2','p4','p5']                                         ]\n",
        "         , [ \"a4\", ['i','j'],       ['c','d','p','q']        ,'1994',['p3','p6']      ,['a1','a2']                            ]\n",
        "         , [ \"a5\", ['dj','dk'],     ['a','dj','dk','m','r']  ,'1994',['p1','p7']      ,['a1','a2','a3']                       ]\n",
        "         , [ \"a6\", ['d','ac','ad'], ['d','ac','ad','s','t']  ,'1994',['p8','p9']      ,['a1','a3']                            ]\n",
        "         ]\n",
        "print(\"TABLE I. EXAMPLE OF METADATA INFORMATION ON A CLUSTER OF ARTICLES\")\n",
        "print(title)\n",
        "print(tabulate(table))"
      ],
      "metadata": {
        "colab": {
          "base_uri": "https://localhost:8080/"
        },
        "id": "GIzj4xRTnijF",
        "outputId": "a99994eb-c99d-44ce-fec3-b74943577ab1"
      },
      "execution_count": 37,
      "outputs": [
        {
          "output_type": "stream",
          "name": "stdout",
          "text": [
            "TABLE I. EXAMPLE OF METADATA INFORMATION ON A CLUSTER OF ARTICLES\n",
            "['Article-ID', 'Terms in Title and Keywords', 'Terms Found in Abstracts', 'Publication Year', 'Authors', 'References']\n",
            "--  -----------------  ------------------------------  ----  ------------------  ------------------\n",
            "a1  ['a', 'b', 'c']    ['a', 'b', 'c', 'k', 'l']       1993  ['p1', 'p2']\n",
            "a2  ['c', 'd', 'e']    ['a', 'c', 'd', 'e', 'm', 'n']  1993  ['p1', 'p3']\n",
            "a3  ['f', 'g', 'h']    ['c', 'd', 'f', 'g', 'h', 'o']  1993  ['p2', 'p4', 'p5']\n",
            "a4  ['i', 'j']         ['c', 'd', 'p', 'q']            1994  ['p3', 'p6']        ['a1', 'a2']\n",
            "a5  ['dj', 'dk']       ['a', 'dj', 'dk', 'm', 'r']     1994  ['p1', 'p7']        ['a1', 'a2', 'a3']\n",
            "a6  ['d', 'ac', 'ad']  ['d', 'ac', 'ad', 's', 't']     1994  ['p8', 'p9']        ['a1', 'a3']\n",
            "--  -----------------  ------------------------------  ----  ------------------  ------------------\n"
          ]
        }
      ]
    },
    {
      "cell_type": "markdown",
      "source": [
        "Proses mendapatkan pasangan (Artikel ID & Author & Reference) dan mendapatkan list penulis yang ada"
      ],
      "metadata": {
        "id": "9bu2HngjYAmS"
      }
    },
    {
      "cell_type": "code",
      "source": [
        "pairs=[]\n",
        "authors=[]\n",
        "for i in table:\n",
        "  row=[]\n",
        "  # i[0]= \"Article-ID\" ,  i[4]= \"Authors\"\n",
        "  row.append(i[0])\n",
        "  row.append(i[4])\n",
        "  for penulis in i[4]:\n",
        "    # authors = ['p1', 'p2','p1', 'p3', .....]\n",
        "    authors.append(penulis)\n",
        "  try:\n",
        "    # i[5]= \"References\"\n",
        "    row.append(i[5])\n",
        "  except:\n",
        "    print(\"\")\n",
        "  # pairs berisi pasangan Artikel ID & Author & Reference\"\n",
        "  pairs.append(row)\n",
        "print(\"Artikel ID & Author & Reference\")\n",
        "for i in pairs:\n",
        "  print(i)\n",
        "  print(\"\\n\")\n",
        "# authors berisi data penulis namus banyak duplikasi maka disortir agar duplikasinya dapat dihilangkan \n",
        "authors=sorted(set(authors))\n",
        "print(\"Daftar Author\")\n",
        "for y in authors:\n",
        "  print(y)\n",
        "  print(\"\\n\")\n",
        "\n"
      ],
      "metadata": {
        "id": "8ZYiOdk92R5v",
        "colab": {
          "base_uri": "https://localhost:8080/"
        },
        "outputId": "274fd352-92cf-4a3d-a2e7-b5ca5ab668ed"
      },
      "execution_count": 38,
      "outputs": [
        {
          "output_type": "stream",
          "name": "stdout",
          "text": [
            "\n",
            "\n",
            "\n",
            "Artikel ID & Author & Reference\n",
            "['a1', ['p1', 'p2']]\n",
            "\n",
            "\n",
            "['a2', ['p1', 'p3']]\n",
            "\n",
            "\n",
            "['a3', ['p2', 'p4', 'p5']]\n",
            "\n",
            "\n",
            "['a4', ['p3', 'p6'], ['a1', 'a2']]\n",
            "\n",
            "\n",
            "['a5', ['p1', 'p7'], ['a1', 'a2', 'a3']]\n",
            "\n",
            "\n",
            "['a6', ['p8', 'p9'], ['a1', 'a3']]\n",
            "\n",
            "\n",
            "Daftar Author\n",
            "p1\n",
            "\n",
            "\n",
            "p2\n",
            "\n",
            "\n",
            "p3\n",
            "\n",
            "\n",
            "p4\n",
            "\n",
            "\n",
            "p5\n",
            "\n",
            "\n",
            "p6\n",
            "\n",
            "\n",
            "p7\n",
            "\n",
            "\n",
            "p8\n",
            "\n",
            "\n",
            "p9\n",
            "\n",
            "\n"
          ]
        }
      ]
    },
    {
      "cell_type": "code",
      "source": [
        "print(\"Semua Kemungkinan Relasi Antar Penulis Yang Dapat Terjadi\")\n",
        "author_matrix=[]\n",
        "for author_x in authors:\n",
        "  for author_y in authors:\n",
        "    row=[]\n",
        "    row.append(author_x)\n",
        "    row.append(author_y)\n",
        "    author_matrix.append(row)\n",
        "for x in author_matrix:\n",
        "  print(x)"
      ],
      "metadata": {
        "id": "Sw_GXg-_tMtG",
        "colab": {
          "base_uri": "https://localhost:8080/"
        },
        "outputId": "7e241b99-c85f-4a6d-b07b-c9aa7391819d"
      },
      "execution_count": 39,
      "outputs": [
        {
          "output_type": "stream",
          "name": "stdout",
          "text": [
            "Semua Kemungkinan Relasi Antar Penulis Yang Dapat Terjadi\n",
            "['p1', 'p1']\n",
            "['p1', 'p2']\n",
            "['p1', 'p3']\n",
            "['p1', 'p4']\n",
            "['p1', 'p5']\n",
            "['p1', 'p6']\n",
            "['p1', 'p7']\n",
            "['p1', 'p8']\n",
            "['p1', 'p9']\n",
            "['p2', 'p1']\n",
            "['p2', 'p2']\n",
            "['p2', 'p3']\n",
            "['p2', 'p4']\n",
            "['p2', 'p5']\n",
            "['p2', 'p6']\n",
            "['p2', 'p7']\n",
            "['p2', 'p8']\n",
            "['p2', 'p9']\n",
            "['p3', 'p1']\n",
            "['p3', 'p2']\n",
            "['p3', 'p3']\n",
            "['p3', 'p4']\n",
            "['p3', 'p5']\n",
            "['p3', 'p6']\n",
            "['p3', 'p7']\n",
            "['p3', 'p8']\n",
            "['p3', 'p9']\n",
            "['p4', 'p1']\n",
            "['p4', 'p2']\n",
            "['p4', 'p3']\n",
            "['p4', 'p4']\n",
            "['p4', 'p5']\n",
            "['p4', 'p6']\n",
            "['p4', 'p7']\n",
            "['p4', 'p8']\n",
            "['p4', 'p9']\n",
            "['p5', 'p1']\n",
            "['p5', 'p2']\n",
            "['p5', 'p3']\n",
            "['p5', 'p4']\n",
            "['p5', 'p5']\n",
            "['p5', 'p6']\n",
            "['p5', 'p7']\n",
            "['p5', 'p8']\n",
            "['p5', 'p9']\n",
            "['p6', 'p1']\n",
            "['p6', 'p2']\n",
            "['p6', 'p3']\n",
            "['p6', 'p4']\n",
            "['p6', 'p5']\n",
            "['p6', 'p6']\n",
            "['p6', 'p7']\n",
            "['p6', 'p8']\n",
            "['p6', 'p9']\n",
            "['p7', 'p1']\n",
            "['p7', 'p2']\n",
            "['p7', 'p3']\n",
            "['p7', 'p4']\n",
            "['p7', 'p5']\n",
            "['p7', 'p6']\n",
            "['p7', 'p7']\n",
            "['p7', 'p8']\n",
            "['p7', 'p9']\n",
            "['p8', 'p1']\n",
            "['p8', 'p2']\n",
            "['p8', 'p3']\n",
            "['p8', 'p4']\n",
            "['p8', 'p5']\n",
            "['p8', 'p6']\n",
            "['p8', 'p7']\n",
            "['p8', 'p8']\n",
            "['p8', 'p9']\n",
            "['p9', 'p1']\n",
            "['p9', 'p2']\n",
            "['p9', 'p3']\n",
            "['p9', 'p4']\n",
            "['p9', 'p5']\n",
            "['p9', 'p6']\n",
            "['p9', 'p7']\n",
            "['p9', 'p8']\n",
            "['p9', 'p9']\n"
          ]
        }
      ]
    },
    {
      "cell_type": "markdown",
      "source": [
        "Proses Perhitungan Degree of Interest"
      ],
      "metadata": {
        "id": "zub2BYYsYr3x"
      }
    },
    {
      "cell_type": "code",
      "source": [
        "for i in pairs:\n",
        "  try:\n",
        "    penulisList=i[1]\n",
        "    authorList=i[2]\n",
        "    authorListExpand=[]\n",
        "    print(penulisList+authorList)\n",
        "    for author in authorList:\n",
        "      row_author=pairs[index_2d(pairs, author)][1]\n",
        "      print(row_author)\n",
        "      for every_author in row_author:\n",
        "        print(every_author)\n",
        "        authorListExpand.append(every_author)\n",
        "    print(\"\\n\")\n",
        "    for authorListExpandChild in authorListExpand:\n",
        "      print(\"child:\")\n",
        "      print(authorListExpandChild)\n",
        "    print(\"\\n\")\n",
        "\n",
        "    for penulis in penulisList:\n",
        "      for child in authorListExpand:\n",
        "        if penulis is child:\n",
        "          continue\n",
        "        print(\"penulis:\",penulis,child)\n",
        "        try:\n",
        "          index=author_matrix.index([penulis, child])\n",
        "          author_matrix[index].append(authorListExpand.count(child))\n",
        "          print(\"nilai:\",author_matrix[index][2])\n",
        "          # try:\n",
        "          #   author_matrix[index][2]=author_matrix[index][2]+1\n",
        "          #   print(\"coba:\",author_matrix[index][2])\n",
        "          # except:\n",
        "          #   author_matrix[index].append(1)\n",
        "          #   print(\"nilai:\",author_matrix[index][2])\n",
        "          \n",
        "        except:\n",
        "            continue\n",
        "    \n",
        "  except:\n",
        "    continue\n",
        "\n",
        "def index_2d(myList, v):\n",
        "    for i, x in enumerate(myList):\n",
        "        if v in x:\n",
        "            return i #, x.index(v)"
      ],
      "metadata": {
        "colab": {
          "base_uri": "https://localhost:8080/"
        },
        "id": "XI8nNaDv2s9_",
        "outputId": "111da062-96f2-45f7-db33-b815ae8beed3"
      },
      "execution_count": 40,
      "outputs": [
        {
          "output_type": "stream",
          "name": "stdout",
          "text": [
            "['p3', 'p6', 'a1', 'a2']\n",
            "['p1', 'p2']\n",
            "p1\n",
            "p2\n",
            "['p1', 'p3']\n",
            "p1\n",
            "p3\n",
            "\n",
            "\n",
            "child:\n",
            "p1\n",
            "child:\n",
            "p2\n",
            "child:\n",
            "p1\n",
            "child:\n",
            "p3\n",
            "\n",
            "\n",
            "penulis: p3 p1\n",
            "nilai: 2\n",
            "penulis: p3 p2\n",
            "nilai: 1\n",
            "penulis: p3 p1\n",
            "penulis: p6 p1\n",
            "nilai: 2\n",
            "penulis: p6 p2\n",
            "nilai: 1\n",
            "penulis: p6 p1\n",
            "penulis: p6 p3\n",
            "nilai: 1\n",
            "['p1', 'p7', 'a1', 'a2', 'a3']\n",
            "['p1', 'p2']\n",
            "p1\n",
            "p2\n",
            "['p1', 'p3']\n",
            "p1\n",
            "p3\n",
            "['p2', 'p4', 'p5']\n",
            "p2\n",
            "p4\n",
            "p5\n",
            "\n",
            "\n",
            "child:\n",
            "p1\n",
            "child:\n",
            "p2\n",
            "child:\n",
            "p1\n",
            "child:\n",
            "p3\n",
            "child:\n",
            "p2\n",
            "child:\n",
            "p4\n",
            "child:\n",
            "p5\n",
            "\n",
            "\n",
            "penulis: p1 p2\n",
            "nilai: 2\n",
            "penulis: p1 p3\n",
            "nilai: 1\n",
            "penulis: p1 p2\n",
            "penulis: p1 p4\n",
            "nilai: 1\n",
            "penulis: p1 p5\n",
            "nilai: 1\n",
            "penulis: p7 p1\n",
            "nilai: 2\n",
            "penulis: p7 p2\n",
            "nilai: 2\n",
            "penulis: p7 p1\n",
            "penulis: p7 p3\n",
            "nilai: 1\n",
            "penulis: p7 p2\n",
            "penulis: p7 p4\n",
            "nilai: 1\n",
            "penulis: p7 p5\n",
            "nilai: 1\n",
            "['p8', 'p9', 'a1', 'a3']\n",
            "['p1', 'p2']\n",
            "p1\n",
            "p2\n",
            "['p2', 'p4', 'p5']\n",
            "p2\n",
            "p4\n",
            "p5\n",
            "\n",
            "\n",
            "child:\n",
            "p1\n",
            "child:\n",
            "p2\n",
            "child:\n",
            "p2\n",
            "child:\n",
            "p4\n",
            "child:\n",
            "p5\n",
            "\n",
            "\n",
            "penulis: p8 p1\n",
            "nilai: 1\n",
            "penulis: p8 p2\n",
            "nilai: 2\n",
            "penulis: p8 p2\n",
            "penulis: p8 p4\n",
            "nilai: 1\n",
            "penulis: p8 p5\n",
            "nilai: 1\n",
            "penulis: p9 p1\n",
            "nilai: 1\n",
            "penulis: p9 p2\n",
            "nilai: 2\n",
            "penulis: p9 p2\n",
            "penulis: p9 p4\n",
            "nilai: 1\n",
            "penulis: p9 p5\n",
            "nilai: 1\n"
          ]
        }
      ]
    },
    {
      "cell_type": "markdown",
      "source": [
        "Data Hasil Perhitungan Degree of Interest (blm dikasih tabel)"
      ],
      "metadata": {
        "id": "qwgqhNf-aCa3"
      }
    },
    {
      "cell_type": "code",
      "source": [
        "#Table 2\n",
        "for x in author_matrix:\n",
        "  print(x)"
      ],
      "metadata": {
        "colab": {
          "base_uri": "https://localhost:8080/"
        },
        "id": "Ih5-k-cFZ2zX",
        "outputId": "a978a38b-2e06-4fd3-838b-72c6161fd071"
      },
      "execution_count": 41,
      "outputs": [
        {
          "output_type": "stream",
          "name": "stdout",
          "text": [
            "['p1', 'p1']\n",
            "['p1', 'p2', 2]\n",
            "['p1', 'p3', 1]\n",
            "['p1', 'p4', 1]\n",
            "['p1', 'p5', 1]\n",
            "['p1', 'p6']\n",
            "['p1', 'p7']\n",
            "['p1', 'p8']\n",
            "['p1', 'p9']\n",
            "['p2', 'p1']\n",
            "['p2', 'p2']\n",
            "['p2', 'p3']\n",
            "['p2', 'p4']\n",
            "['p2', 'p5']\n",
            "['p2', 'p6']\n",
            "['p2', 'p7']\n",
            "['p2', 'p8']\n",
            "['p2', 'p9']\n",
            "['p3', 'p1', 2]\n",
            "['p3', 'p2', 1]\n",
            "['p3', 'p3']\n",
            "['p3', 'p4']\n",
            "['p3', 'p5']\n",
            "['p3', 'p6']\n",
            "['p3', 'p7']\n",
            "['p3', 'p8']\n",
            "['p3', 'p9']\n",
            "['p4', 'p1']\n",
            "['p4', 'p2']\n",
            "['p4', 'p3']\n",
            "['p4', 'p4']\n",
            "['p4', 'p5']\n",
            "['p4', 'p6']\n",
            "['p4', 'p7']\n",
            "['p4', 'p8']\n",
            "['p4', 'p9']\n",
            "['p5', 'p1']\n",
            "['p5', 'p2']\n",
            "['p5', 'p3']\n",
            "['p5', 'p4']\n",
            "['p5', 'p5']\n",
            "['p5', 'p6']\n",
            "['p5', 'p7']\n",
            "['p5', 'p8']\n",
            "['p5', 'p9']\n",
            "['p6', 'p1', 2]\n",
            "['p6', 'p2', 1]\n",
            "['p6', 'p3', 1]\n",
            "['p6', 'p4']\n",
            "['p6', 'p5']\n",
            "['p6', 'p6']\n",
            "['p6', 'p7']\n",
            "['p6', 'p8']\n",
            "['p6', 'p9']\n",
            "['p7', 'p1', 2]\n",
            "['p7', 'p2', 2]\n",
            "['p7', 'p3', 1]\n",
            "['p7', 'p4', 1]\n",
            "['p7', 'p5', 1]\n",
            "['p7', 'p6']\n",
            "['p7', 'p7']\n",
            "['p7', 'p8']\n",
            "['p7', 'p9']\n",
            "['p8', 'p1', 1]\n",
            "['p8', 'p2', 2]\n",
            "['p8', 'p3']\n",
            "['p8', 'p4', 1]\n",
            "['p8', 'p5', 1]\n",
            "['p8', 'p6']\n",
            "['p8', 'p7']\n",
            "['p8', 'p8']\n",
            "['p8', 'p9']\n",
            "['p9', 'p1', 1]\n",
            "['p9', 'p2', 2]\n",
            "['p9', 'p3']\n",
            "['p9', 'p4', 1]\n",
            "['p9', 'p5', 1]\n",
            "['p9', 'p6']\n",
            "['p9', 'p7']\n",
            "['p9', 'p8']\n",
            "['p9', 'p9']\n"
          ]
        }
      ]
    },
    {
      "cell_type": "code",
      "source": [
        "import pandas as pd\n",
        "pretable2=[]\n",
        "for x in authors:\n",
        "  authortmp=[]\n",
        "  for y in author_matrix:\n",
        "    if y[1] in x:\n",
        "      try:\n",
        "        authortmp.append(y[2])\n",
        "      except:\n",
        "        authortmp.append(0)\n",
        "  pretable2.append(authortmp)\n",
        "# print(pretable2)\n",
        "table2=pd.DataFrame(pretable2, columns=authors,index=authors)\n",
        "print(\"TABLE II. AUTHOR ADJACENT MATRIX OF 1994 PUBLICATION\")\n",
        "print(table2)\n",
        "  \n",
        "  \n",
        "      "
      ],
      "metadata": {
        "colab": {
          "base_uri": "https://localhost:8080/"
        },
        "id": "RwEJ6bsmLLQy",
        "outputId": "d1e19d8c-ffa7-4d39-a51c-487205cf8339"
      },
      "execution_count": 42,
      "outputs": [
        {
          "output_type": "stream",
          "name": "stdout",
          "text": [
            "TABLE II. AUTHOR ADJACENT MATRIX OF 1994 PUBLICATION\n",
            "    p1  p2  p3  p4  p5  p6  p7  p8  p9\n",
            "p1   0   0   2   0   0   2   2   1   1\n",
            "p2   2   0   1   0   0   1   2   2   2\n",
            "p3   1   0   0   0   0   1   1   0   0\n",
            "p4   1   0   0   0   0   0   1   1   1\n",
            "p5   1   0   0   0   0   0   1   1   1\n",
            "p6   0   0   0   0   0   0   0   0   0\n",
            "p7   0   0   0   0   0   0   0   0   0\n",
            "p8   0   0   0   0   0   0   0   0   0\n",
            "p9   0   0   0   0   0   0   0   0   0\n"
          ]
        }
      ]
    },
    {
      "cell_type": "markdown",
      "source": [
        "Proses Pembuatan Term Graph menggunakan Tabel 2 menggunakan networkx"
      ],
      "metadata": {
        "id": "jbhe4YDtamoM"
      }
    },
    {
      "cell_type": "code",
      "source": [
        "import numpy as np\n",
        "import matplotlib.pyplot as plt\n",
        "import networkx as nx\n",
        "# rows, cols = np.where(table2 >= 1)\n",
        "# edges = zip(rows.tolist(), cols.tolist())\n",
        "# gr = nx.Graph()\n",
        "# gr.add_edges_from(edges)\n",
        "# nx.draw(gr, node_size=500,with_labels=True)\n",
        "# plt.show()\n",
        "\n",
        "\n",
        "G = nx.Graph()\n",
        "rows1, cols1 = np.where(table2 == 1)\n",
        "edges1 = zip(rows1.tolist(), cols1.tolist())\n",
        "for x,y in edges1:\n",
        "  G.add_edge(x, y, weight=1)\n",
        "rows2, cols2 = np.where(table2 == 2)\n",
        "edges2 = zip(rows2.tolist(), cols2.tolist())\n",
        "for x,y in edges2:\n",
        "  G.add_edge(x, y, weight=2)\n",
        "\n",
        "elarge = [(u, v) for (u, v, d) in G.edges(data=True) if d[\"weight\"] ==1 ]\n",
        "esmall = [(u, v) for (u, v, d) in G.edges(data=True) if d[\"weight\"] == 2]\n",
        "\n",
        "pos = nx.spring_layout(G, seed=7)  # positions for all nodes - seed for reproducibility\n",
        "\n",
        "# nodes\n",
        "nx.draw_networkx_nodes(G, pos, node_size=700)\n",
        "\n",
        "# edges\n",
        "nx.draw_networkx_edges(G, pos, edgelist=elarge, width=6)\n",
        "nx.draw_networkx_edges(\n",
        "    G, pos, edgelist=esmall, width=6, alpha=0.5, edge_color=\"b\", style=\"dashed\"\n",
        ")\n",
        "\n",
        "# node labels\n",
        "nx.draw_networkx_labels(G, pos, font_size=20, font_family=\"sans-serif\")\n",
        "# edge weight labels\n",
        "edge_labels = nx.get_edge_attributes(G, \"weight\")\n",
        "nx.draw_networkx_edge_labels(G, pos, edge_labels)\n",
        "\n",
        "ax = plt.gca()\n",
        "ax.margins(0.08)\n",
        "plt.axis(\"off\")\n",
        "plt.tight_layout()\n",
        "print(\"term Graph\")\n",
        "plt.show()\n",
        "\n",
        "\n",
        "\n",
        "# G = nx.from_numpy_matrix(np.matrix(table2), create_using=nx.DiGraph)\n",
        "# layout = nx.spring_layout(G)\n",
        "# nx.draw(G, layout)\n",
        "# nx.draw_networkx_edge_labels(G, pos=layout)\n",
        "# plt.show()"
      ],
      "metadata": {
        "colab": {
          "base_uri": "https://localhost:8080/",
          "height": 314
        },
        "id": "k0u8NGAESNe6",
        "outputId": "eba793b6-2bb7-430f-ad5e-895702ae6311"
      },
      "execution_count": 43,
      "outputs": [
        {
          "output_type": "stream",
          "name": "stdout",
          "text": [
            "term Graph\n"
          ]
        },
        {
          "output_type": "display_data",
          "data": {
            "text/plain": [
              "<Figure size 432x288 with 1 Axes>"
            ],
            "image/png": "[encoded data removed]"
          },
          "metadata": {}
        }
      ]
    },
    {
      "cell_type": "markdown",
      "source": [
        "Mengubal Tabel 2 menjadi Tabel 3, dimana tabel 3 sama seperti tabel 2 hanya perbedaannya ada penjumlah per row & col di Tabelnya,selebihnya sama"
      ],
      "metadata": {
        "id": "7LA0BosveFD2"
      }
    },
    {
      "cell_type": "code",
      "source": [
        "sumrow=[]\n",
        "sumcol=[]\n",
        "lenauthor=len(authors)\n",
        "for x in range(lenauthor):\n",
        "  nilai=0\n",
        "  for y in range(lenauthor):\n",
        "    nilai=nilai+pretable2[x][y]\n",
        "  sumrow.append(nilai)\n",
        "print(\"p1p9\")\n",
        "print(sumrow)\n",
        "\n",
        "sumcol=[]\n",
        "for x in range(lenauthor):\n",
        "  nilai=0\n",
        "  for y in range(lenauthor):\n",
        "    nilai=nilai+pretable2[y][x]\n",
        "  sumcol.append(nilai)\n",
        "sumcol.append(0)\n",
        "print(\"p9p1\")\n",
        "print(sumcol)\n",
        "for x in range(lenauthor):\n",
        "  pretable2[x].append(sumrow[x])\n",
        "pretable2.append(sumcol)\n",
        "print(pretable2)\n",
        "print(\"tabel 3: Add Total Row & Col\")\n",
        "table2=pd.DataFrame(pretable2)\n",
        "print(table2)\n",
        "\n"
      ],
      "metadata": {
        "colab": {
          "base_uri": "https://localhost:8080/"
        },
        "id": "CL6PhgM1TIJN",
        "outputId": "dfac8150-f013-485e-ca4e-2b9f38c8b530"
      },
      "execution_count": 44,
      "outputs": [
        {
          "output_type": "stream",
          "name": "stdout",
          "text": [
            "p1p9\n",
            "[8, 10, 3, 4, 4, 0, 0, 0, 0]\n",
            "p9p1\n",
            "[5, 0, 3, 0, 0, 4, 7, 5, 5, 0]\n",
            "[[0, 0, 2, 0, 0, 2, 2, 1, 1, 8], [2, 0, 1, 0, 0, 1, 2, 2, 2, 10], [1, 0, 0, 0, 0, 1, 1, 0, 0, 3], [1, 0, 0, 0, 0, 0, 1, 1, 1, 4], [1, 0, 0, 0, 0, 0, 1, 1, 1, 4], [0, 0, 0, 0, 0, 0, 0, 0, 0, 0], [0, 0, 0, 0, 0, 0, 0, 0, 0, 0], [0, 0, 0, 0, 0, 0, 0, 0, 0, 0], [0, 0, 0, 0, 0, 0, 0, 0, 0, 0], [5, 0, 3, 0, 0, 4, 7, 5, 5, 0]]\n",
            "tabel 3: Add Total Row & Col\n",
            "   0  1  2  3  4  5  6  7  8   9\n",
            "0  0  0  2  0  0  2  2  1  1   8\n",
            "1  2  0  1  0  0  1  2  2  2  10\n",
            "2  1  0  0  0  0  1  1  0  0   3\n",
            "3  1  0  0  0  0  0  1  1  1   4\n",
            "4  1  0  0  0  0  0  1  1  1   4\n",
            "5  0  0  0  0  0  0  0  0  0   0\n",
            "6  0  0  0  0  0  0  0  0  0   0\n",
            "7  0  0  0  0  0  0  0  0  0   0\n",
            "8  0  0  0  0  0  0  0  0  0   0\n",
            "9  5  0  3  0  0  4  7  5  5   0\n"
          ]
        }
      ]
    },
    {
      "cell_type": "markdown",
      "source": [
        "![rumus 1.png](https://i.ibb.co/bKKGWfv/rumus-1.png)\n",
        "Membuat tabel baru menggunakan perhitungan rumus diatas"
      ],
      "metadata": {
        "id": "csJYzmLje8go"
      }
    },
    {
      "cell_type": "code",
      "source": [
        "pretable3=pretable2\n",
        "for x in range(lenauthor):\n",
        "  for y in range(lenauthor):\n",
        "    if pretable3[lenauthor][y] == 0:\n",
        "      # print(\"nilaiku=\"+str(pretable3[x][y]))\n",
        "      pretable3[x][y]=1/lenauthor\n",
        "    else:\n",
        "      # print(\"nilaiku=\"+str(pretable3[x][y]))\n",
        "      pretable3[x][y]=pretable3[x][y]/pretable3[lenauthor][y]\n",
        "table3=pd.DataFrame(pretable3)\n",
        "print(\"tabel 3:new adj Matrix\")\n",
        "print(table3)"
      ],
      "metadata": {
        "colab": {
          "base_uri": "https://localhost:8080/"
        },
        "id": "KJp2Edmg5FB1",
        "outputId": "b160a19f-c161-4d56-e6bf-25a1abd8816e"
      },
      "execution_count": 45,
      "outputs": [
        {
          "output_type": "stream",
          "name": "stdout",
          "text": [
            "tabel 3:new adj Matrix\n",
            "     0         1         2         3         4     5         6    7    8   9\n",
            "0  0.0  0.111111  0.666667  0.111111  0.111111  0.50  0.285714  0.2  0.2   8\n",
            "1  0.4  0.111111  0.333333  0.111111  0.111111  0.25  0.285714  0.4  0.4  10\n",
            "2  0.2  0.111111  0.000000  0.111111  0.111111  0.25  0.142857  0.0  0.0   3\n",
            "3  0.2  0.111111  0.000000  0.111111  0.111111  0.00  0.142857  0.2  0.2   4\n",
            "4  0.2  0.111111  0.000000  0.111111  0.111111  0.00  0.142857  0.2  0.2   4\n",
            "5  0.0  0.111111  0.000000  0.111111  0.111111  0.00  0.000000  0.0  0.0   0\n",
            "6  0.0  0.111111  0.000000  0.111111  0.111111  0.00  0.000000  0.0  0.0   0\n",
            "7  0.0  0.111111  0.000000  0.111111  0.111111  0.00  0.000000  0.0  0.0   0\n",
            "8  0.0  0.111111  0.000000  0.111111  0.111111  0.00  0.000000  0.0  0.0   0\n",
            "9  5.0  0.000000  3.000000  0.000000  0.000000  4.00  7.000000  5.0  5.0   0\n"
          ]
        }
      ]
    },
    {
      "cell_type": "markdown",
      "source": [
        "![rumus 2.png](https://i.ibb.co/wp6Gyc3/rumus-2.png)\n",
        "Membuat perhitungan akhir menggunakan perhitungan rumus diatas"
      ],
      "metadata": {
        "id": "-6zepgIafe43"
      }
    },
    {
      "cell_type": "code",
      "source": [
        "d=0.850466963\n",
        "table4=[]\n",
        "row=[]\n",
        "for x in range(lenauthor):\n",
        "  row.append(1/lenauthor)\n",
        "table4.append(row)\n",
        "for y in range(100):\n",
        "   rowbaru=[]\n",
        "   for x in range(lenauthor): \n",
        "     nilai=(1-d)+d*np.matmul(pretable3[x][0:lenauthor],row[0:lenauthor])\n",
        "     rowbaru.append(nilai)\n",
        "   table4.append(rowbaru)\n",
        "   selisih=abs(np.array(row)-np.array(rowbaru))\n",
        "   ns=max(selisih)\n",
        "   if ns < 0.001:break;\n",
        "   #print(ns)\n",
        "   row=rowbaru\n",
        "rank=[sorted(row,reverse=True).index(x) for x in row]\n",
        "table4.append(rank)   \n",
        "\n",
        "table5=pd.DataFrame(table4)\n",
        "print(\"tabel 3: Ranking\")\n",
        "print(table5.T)"
      ],
      "metadata": {
        "colab": {
          "base_uri": "https://localhost:8080/"
        },
        "id": "TQ95b81qVwmu",
        "outputId": "2a9b7ce9-e3e8-4048-8026-82e16e420703"
      },
      "execution_count": 46,
      "outputs": [
        {
          "output_type": "stream",
          "name": "stdout",
          "text": [
            "tabel 3: Ranking\n",
            "         0         1         2         3         4         5         6   \\\n",
            "0  0.111111  0.356075  0.549555  0.715006  0.857044  0.976965  1.079321   \n",
            "1  0.111111  0.376549  0.626579  0.831375  1.008101  1.157795  1.285174   \n",
            "2  0.111111  0.237055  0.353647  0.451133  0.534114  0.604835  0.664886   \n",
            "3  0.111111  0.251229  0.376741  0.480805  0.569826  0.645525  0.709853   \n",
            "4  0.111111  0.251229  0.376741  0.480805  0.569826  0.645525  0.709853   \n",
            "5  0.111111  0.181032  0.232596  0.279944  0.318963  0.352488  0.380940   \n",
            "6  0.111111  0.181032  0.232596  0.279944  0.318963  0.352488  0.380940   \n",
            "7  0.111111  0.181032  0.232596  0.279944  0.318963  0.352488  0.380940   \n",
            "8  0.111111  0.181032  0.232596  0.279944  0.318963  0.352488  0.380940   \n",
            "\n",
            "         7         8         9   ...        28        29        30        31  \\\n",
            "0  1.166254  1.240215  1.303113  ...  1.644361  1.646826  1.648922  1.650705   \n",
            "1  1.393533  1.485665  1.564031  ...  1.989181  1.992252  1.994864  1.997085   \n",
            "2  0.715996  0.759451  0.796412  ...  0.996934  0.998382  0.999614  1.000662   \n",
            "3  0.764593  0.811134  0.850721  ...  1.065487  1.067039  1.068358  1.069480   \n",
            "4  0.764593  0.811134  0.850721  ...  1.065487  1.067039  1.068358  1.069480   \n",
            "5  0.405134  0.425719  0.443221  ...  0.538187  0.538873  0.539456  0.539952   \n",
            "6  0.405134  0.425719  0.443221  ...  0.538187  0.538873  0.539456  0.539952   \n",
            "7  0.405134  0.425719  0.443221  ...  0.538187  0.538873  0.539456  0.539952   \n",
            "8  0.405134  0.425719  0.443221  ...  0.538187  0.538873  0.539456  0.539952   \n",
            "\n",
            "         32        33        34        35        36   37  \n",
            "0  1.652221  1.653510  1.654607  1.655540  1.656333  1.0  \n",
            "1  1.998974  2.000580  2.001947  2.003109  2.004097  0.0  \n",
            "2  1.001553  1.002310  1.002955  1.003503  1.003969  4.0  \n",
            "3  1.070434  1.071246  1.071936  1.072523  1.073022  2.0  \n",
            "4  1.070434  1.071246  1.071936  1.072523  1.073022  2.0  \n",
            "5  0.540374  0.540733  0.541038  0.541298  0.541518  5.0  \n",
            "6  0.540374  0.540733  0.541038  0.541298  0.541518  5.0  \n",
            "7  0.540374  0.540733  0.541038  0.541298  0.541518  5.0  \n",
            "8  0.540374  0.540733  0.541038  0.541298  0.541518  5.0  \n",
            "\n",
            "[9 rows x 38 columns]\n"
          ]
        }
      ]
    }
  ]
}